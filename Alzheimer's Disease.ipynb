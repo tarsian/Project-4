{
 "cells": [
  {
   "cell_type": "code",
   "execution_count": 3,
   "metadata": {},
   "outputs": [
    {
     "data": {
      "text/html": [
       "    <style>\n",
       "        .bk-notebook-logo {\n",
       "            display: block;\n",
       "            width: 20px;\n",
       "            height: 20px;\n",
       "            background-image: url(data:image/png;base64,iVBORw0KGgoAAAANSUhEUgAAABQAAAAUCAYAAACNiR0NAAAABHNCSVQICAgIfAhkiAAAAAlwSFlzAAALEgAACxIB0t1+/AAAABx0RVh0U29mdHdhcmUAQWRvYmUgRmlyZXdvcmtzIENTNui8sowAAAOkSURBVDiNjZRtaJVlGMd/1/08zzln5zjP1LWcU9N0NkN8m2CYjpgQYQXqSs0I84OLIC0hkEKoPtiH3gmKoiJDU7QpLgoLjLIQCpEsNJ1vqUOdO7ppbuec5+V+rj4ctwzd8IIbbi6u+8f1539dt3A78eXC7QizUF7gyV1fD1Yqg4JWz84yffhm0qkFqBogB9rM8tZdtwVsPUhWhGcFJngGeWrPzHm5oaMmkfEg1usvLFyc8jLRqDOMru7AyC8saQr7GG7f5fvDeH7Ej8CM66nIF+8yngt6HWaKh7k49Soy9nXurCi1o3qUbS3zWfrYeQDTB/Qj6kX6Ybhw4B+bOYoLKCC9H3Nu/leUTZ1JdRWkkn2ldcCamzrcf47KKXdAJllSlxAOkRgyHsGC/zRday5Qld9DyoM4/q/rUoy/CXh3jzOu3bHUVZeU+DEn8FInkPBFlu3+nW3Nw0mk6vCDiWg8CeJaxEwuHS3+z5RgY+YBR6V1Z1nxSOfoaPa4LASWxxdNp+VWTk7+4vzaou8v8PN+xo+KY2xsw6une2frhw05CTYOmQvsEhjhWjn0bmXPjpE1+kplmmkP3suftwTubK9Vq22qKmrBhpY4jvd5afdRA3wGjFAgcnTK2s4hY0/GPNIb0nErGMCRxWOOX64Z8RAC4oCXdklmEvcL8o0BfkNK4lUg9HTl+oPlQxdNo3Mg4Nv175e/1LDGzZen30MEjRUtmXSfiTVu1kK8W4txyV6BMKlbgk3lMwYCiusNy9fVfvvwMxv8Ynl6vxoByANLTWplvuj/nF9m2+PDtt1eiHPBr1oIfhCChQMBw6Aw0UulqTKZdfVvfG7VcfIqLG9bcldL/+pdWTLxLUy8Qq38heUIjh4XlzZxzQm19lLFlr8vdQ97rjZVOLf8nclzckbcD4wxXMidpX30sFd37Fv/GtwwhzhxGVAprjbg0gCAEeIgwCZyTV2Z1REEW8O4py0wsjeloKoMr6iCY6dP92H6Vw/oTyICIthibxjm/DfN9lVz8IqtqKYLUXfoKVMVQVVJOElGjrnnUt9T9wbgp8AyYKaGlqingHZU/uG2NTZSVqwHQTWkx9hxjkpWDaCg6Ckj5qebgBVbT3V3NNXMSiWSDdGV3hrtzla7J+duwPOToIg42ChPQOQjspnSlp1V+Gjdged7+8UN5CRAV7a5EdFNwCjEaBR27b3W890TE7g24NAP/mMDXRWrGoFPQI9ls/MWO2dWFAar/xcOIImbbpA3zgAAAABJRU5ErkJggg==);\n",
       "        }\n",
       "    </style>\n",
       "    <div>\n",
       "        <a href=\"https://bokeh.org\" target=\"_blank\" class=\"bk-notebook-logo\"></a>\n",
       "        <span id=\"c0c5834b-b21d-4afb-9709-011c87f2170b\">Loading BokehJS ...</span>\n",
       "    </div>\n"
      ]
     },
     "metadata": {},
     "output_type": "display_data"
    },
    {
     "data": {
      "application/javascript": "(function(root) {\n  function now() {\n    return new Date();\n  }\n\n  const force = true;\n\n  if (typeof root._bokeh_onload_callbacks === \"undefined\" || force === true) {\n    root._bokeh_onload_callbacks = [];\n    root._bokeh_is_loading = undefined;\n  }\n\nconst JS_MIME_TYPE = 'application/javascript';\n  const HTML_MIME_TYPE = 'text/html';\n  const EXEC_MIME_TYPE = 'application/vnd.bokehjs_exec.v0+json';\n  const CLASS_NAME = 'output_bokeh rendered_html';\n\n  /**\n   * Render data to the DOM node\n   */\n  function render(props, node) {\n    const script = document.createElement(\"script\");\n    node.appendChild(script);\n  }\n\n  /**\n   * Handle when an output is cleared or removed\n   */\n  function handleClearOutput(event, handle) {\n    function drop(id) {\n      const view = Bokeh.index.get_by_id(id)\n      if (view != null) {\n        view.model.document.clear()\n        Bokeh.index.delete(view)\n      }\n    }\n\n    const cell = handle.cell;\n\n    const id = cell.output_area._bokeh_element_id;\n    const server_id = cell.output_area._bokeh_server_id;\n\n    // Clean up Bokeh references\n    if (id != null) {\n      drop(id)\n    }\n\n    if (server_id !== undefined) {\n      // Clean up Bokeh references\n      const cmd_clean = \"from bokeh.io.state import curstate; print(curstate().uuid_to_server['\" + server_id + \"'].get_sessions()[0].document.roots[0]._id)\";\n      cell.notebook.kernel.execute(cmd_clean, {\n        iopub: {\n          output: function(msg) {\n            const id = msg.content.text.trim()\n            drop(id)\n          }\n        }\n      });\n      // Destroy server and session\n      const cmd_destroy = \"import bokeh.io.notebook as ion; ion.destroy_server('\" + server_id + \"')\";\n      cell.notebook.kernel.execute(cmd_destroy);\n    }\n  }\n\n  /**\n   * Handle when a new output is added\n   */\n  function handleAddOutput(event, handle) {\n    const output_area = handle.output_area;\n    const output = handle.output;\n\n    // limit handleAddOutput to display_data with EXEC_MIME_TYPE content only\n    if ((output.output_type != \"display_data\") || (!Object.prototype.hasOwnProperty.call(output.data, EXEC_MIME_TYPE))) {\n      return\n    }\n\n    const toinsert = output_area.element.find(\".\" + CLASS_NAME.split(' ')[0]);\n\n    if (output.metadata[EXEC_MIME_TYPE][\"id\"] !== undefined) {\n      toinsert[toinsert.length - 1].firstChild.textContent = output.data[JS_MIME_TYPE];\n      // store reference to embed id on output_area\n      output_area._bokeh_element_id = output.metadata[EXEC_MIME_TYPE][\"id\"];\n    }\n    if (output.metadata[EXEC_MIME_TYPE][\"server_id\"] !== undefined) {\n      const bk_div = document.createElement(\"div\");\n      bk_div.innerHTML = output.data[HTML_MIME_TYPE];\n      const script_attrs = bk_div.children[0].attributes;\n      for (let i = 0; i < script_attrs.length; i++) {\n        toinsert[toinsert.length - 1].firstChild.setAttribute(script_attrs[i].name, script_attrs[i].value);\n        toinsert[toinsert.length - 1].firstChild.textContent = bk_div.children[0].textContent\n      }\n      // store reference to server id on output_area\n      output_area._bokeh_server_id = output.metadata[EXEC_MIME_TYPE][\"server_id\"];\n    }\n  }\n\n  function register_renderer(events, OutputArea) {\n\n    function append_mime(data, metadata, element) {\n      // create a DOM node to render to\n      const toinsert = this.create_output_subarea(\n        metadata,\n        CLASS_NAME,\n        EXEC_MIME_TYPE\n      );\n      this.keyboard_manager.register_events(toinsert);\n      // Render to node\n      const props = {data: data, metadata: metadata[EXEC_MIME_TYPE]};\n      render(props, toinsert[toinsert.length - 1]);\n      element.append(toinsert);\n      return toinsert\n    }\n\n    /* Handle when an output is cleared or removed */\n    events.on('clear_output.CodeCell', handleClearOutput);\n    events.on('delete.Cell', handleClearOutput);\n\n    /* Handle when a new output is added */\n    events.on('output_added.OutputArea', handleAddOutput);\n\n    /**\n     * Register the mime type and append_mime function with output_area\n     */\n    OutputArea.prototype.register_mime_type(EXEC_MIME_TYPE, append_mime, {\n      /* Is output safe? */\n      safe: true,\n      /* Index of renderer in `output_area.display_order` */\n      index: 0\n    });\n  }\n\n  // register the mime type if in Jupyter Notebook environment and previously unregistered\n  if (root.Jupyter !== undefined) {\n    const events = require('base/js/events');\n    const OutputArea = require('notebook/js/outputarea').OutputArea;\n\n    if (OutputArea.prototype.mime_types().indexOf(EXEC_MIME_TYPE) == -1) {\n      register_renderer(events, OutputArea);\n    }\n  }\n  if (typeof (root._bokeh_timeout) === \"undefined\" || force === true) {\n    root._bokeh_timeout = Date.now() + 5000;\n    root._bokeh_failed_load = false;\n  }\n\n  const NB_LOAD_WARNING = {'data': {'text/html':\n     \"<div style='background-color: #fdd'>\\n\"+\n     \"<p>\\n\"+\n     \"BokehJS does not appear to have successfully loaded. If loading BokehJS from CDN, this \\n\"+\n     \"may be due to a slow or bad network connection. Possible fixes:\\n\"+\n     \"</p>\\n\"+\n     \"<ul>\\n\"+\n     \"<li>re-rerun `output_notebook()` to attempt to load from CDN again, or</li>\\n\"+\n     \"<li>use INLINE resources instead, as so:</li>\\n\"+\n     \"</ul>\\n\"+\n     \"<code>\\n\"+\n     \"from bokeh.resources import INLINE\\n\"+\n     \"output_notebook(resources=INLINE)\\n\"+\n     \"</code>\\n\"+\n     \"</div>\"}};\n\n  function display_loaded() {\n    const el = document.getElementById(\"c0c5834b-b21d-4afb-9709-011c87f2170b\");\n    if (el != null) {\n      el.textContent = \"BokehJS is loading...\";\n    }\n    if (root.Bokeh !== undefined) {\n      if (el != null) {\n        el.textContent = \"BokehJS \" + root.Bokeh.version + \" successfully loaded.\";\n      }\n    } else if (Date.now() < root._bokeh_timeout) {\n      setTimeout(display_loaded, 100)\n    }\n  }\n\n  function run_callbacks() {\n    try {\n      root._bokeh_onload_callbacks.forEach(function(callback) {\n        if (callback != null)\n          callback();\n      });\n    } finally {\n      delete root._bokeh_onload_callbacks\n    }\n    console.debug(\"Bokeh: all callbacks have finished\");\n  }\n\n  function load_libs(css_urls, js_urls, callback) {\n    if (css_urls == null) css_urls = [];\n    if (js_urls == null) js_urls = [];\n\n    root._bokeh_onload_callbacks.push(callback);\n    if (root._bokeh_is_loading > 0) {\n      console.debug(\"Bokeh: BokehJS is being loaded, scheduling callback at\", now());\n      return null;\n    }\n    if (js_urls == null || js_urls.length === 0) {\n      run_callbacks();\n      return null;\n    }\n    console.debug(\"Bokeh: BokehJS not loaded, scheduling load and callback at\", now());\n    root._bokeh_is_loading = css_urls.length + js_urls.length;\n\n    function on_load() {\n      root._bokeh_is_loading--;\n      if (root._bokeh_is_loading === 0) {\n        console.debug(\"Bokeh: all BokehJS libraries/stylesheets loaded\");\n        run_callbacks()\n      }\n    }\n\n    function on_error(url) {\n      console.error(\"failed to load \" + url);\n    }\n\n    for (let i = 0; i < css_urls.length; i++) {\n      const url = css_urls[i];\n      const element = document.createElement(\"link\");\n      element.onload = on_load;\n      element.onerror = on_error.bind(null, url);\n      element.rel = \"stylesheet\";\n      element.type = \"text/css\";\n      element.href = url;\n      console.debug(\"Bokeh: injecting link tag for BokehJS stylesheet: \", url);\n      document.body.appendChild(element);\n    }\n\n    for (let i = 0; i < js_urls.length; i++) {\n      const url = js_urls[i];\n      const element = document.createElement('script');\n      element.onload = on_load;\n      element.onerror = on_error.bind(null, url);\n      element.async = false;\n      element.src = url;\n      console.debug(\"Bokeh: injecting script tag for BokehJS library: \", url);\n      document.head.appendChild(element);\n    }\n  };\n\n  function inject_raw_css(css) {\n    const element = document.createElement(\"style\");\n    element.appendChild(document.createTextNode(css));\n    document.body.appendChild(element);\n  }\n\n  const js_urls = [\"https://cdn.bokeh.org/bokeh/release/bokeh-3.3.4.min.js\", \"https://cdn.bokeh.org/bokeh/release/bokeh-gl-3.3.4.min.js\", \"https://cdn.bokeh.org/bokeh/release/bokeh-widgets-3.3.4.min.js\", \"https://cdn.bokeh.org/bokeh/release/bokeh-tables-3.3.4.min.js\", \"https://cdn.bokeh.org/bokeh/release/bokeh-mathjax-3.3.4.min.js\"];\n  const css_urls = [];\n\n  const inline_js = [    function(Bokeh) {\n      Bokeh.set_log_level(\"info\");\n    },\nfunction(Bokeh) {\n    }\n  ];\n\n  function run_inline_js() {\n    if (root.Bokeh !== undefined || force === true) {\n          for (let i = 0; i < inline_js.length; i++) {\n      inline_js[i].call(root, root.Bokeh);\n    }\nif (force === true) {\n        display_loaded();\n      }} else if (Date.now() < root._bokeh_timeout) {\n      setTimeout(run_inline_js, 100);\n    } else if (!root._bokeh_failed_load) {\n      console.log(\"Bokeh: BokehJS failed to load within specified timeout.\");\n      root._bokeh_failed_load = true;\n    } else if (force !== true) {\n      const cell = $(document.getElementById(\"c0c5834b-b21d-4afb-9709-011c87f2170b\")).parents('.cell').data().cell;\n      cell.output_area.append_execute_result(NB_LOAD_WARNING)\n    }\n  }\n\n  if (root._bokeh_is_loading === 0) {\n    console.debug(\"Bokeh: BokehJS loaded, going straight to plotting\");\n    run_inline_js();\n  } else {\n    load_libs(css_urls, js_urls, function() {\n      console.debug(\"Bokeh: BokehJS plotting callback run at\", now());\n      run_inline_js();\n    });\n  }\n}(window));",
      "application/vnd.bokehjs_load.v0+json": ""
     },
     "metadata": {},
     "output_type": "display_data"
    }
   ],
   "source": [
    "import numpy as np\n",
    "import pandas as pd\n",
    "from sklearn.model_selection import train_test_split\n",
    "from sklearn.preprocessing import StandardScaler\n",
    "from sklearn.metrics import classification_report, confusion_matrix, accuracy_score, roc_curve, roc_auc_score\n",
    "from sklearn.ensemble import RandomForestClassifier\n",
    "from sklearn.tree import DecisionTreeClassifier\n",
    "from pyspark.sql import SparkSession\n",
    "from pyspark.ml.feature import VectorAssembler, StringIndexer\n",
    "from pyspark.ml import Pipeline\n",
    "from pyspark.ml.evaluation import MulticlassClassificationEvaluator, BinaryClassificationEvaluator\n",
    "from pyspark.ml.classification import RandomForestClassifier as SparkRandomForestClassifier\n",
    "from pyspark.ml.classification import DecisionTreeClassifier as SparkDecisionTreeClassifier\n",
    "from bokeh.plotting import figure, show\n",
    "from bokeh.io import output_notebook\n",
    "from bokeh.models import ColumnDataSource\n",
    "\n",
    "# Set seed for reproducibility\n",
    "np.random.seed(5)\n",
    "random_state = np.random.randint(0, 10000)\n",
    "\n",
    "output_notebook()\n"
   ]
  },
  {
   "cell_type": "code",
   "execution_count": 4,
   "metadata": {},
   "outputs": [
    {
     "name": "stdout",
     "output_type": "stream",
     "text": [
      "root\n",
      " |-- PatientID: integer (nullable = true)\n",
      " |-- Age: integer (nullable = true)\n",
      " |-- Gender: integer (nullable = true)\n",
      " |-- Ethnicity: integer (nullable = true)\n",
      " |-- EducationLevel: integer (nullable = true)\n",
      " |-- BMI: double (nullable = true)\n",
      " |-- Smoking: integer (nullable = true)\n",
      " |-- AlcoholConsumption: double (nullable = true)\n",
      " |-- PhysicalActivity: double (nullable = true)\n",
      " |-- DietQuality: double (nullable = true)\n",
      " |-- SleepQuality: double (nullable = true)\n",
      " |-- FamilyHistoryAlzheimers: integer (nullable = true)\n",
      " |-- CardiovascularDisease: integer (nullable = true)\n",
      " |-- Diabetes: integer (nullable = true)\n",
      " |-- Depression: integer (nullable = true)\n",
      " |-- HeadInjury: integer (nullable = true)\n",
      " |-- Hypertension: integer (nullable = true)\n",
      " |-- SystolicBP: integer (nullable = true)\n",
      " |-- DiastolicBP: integer (nullable = true)\n",
      " |-- CholesterolTotal: double (nullable = true)\n",
      " |-- CholesterolLDL: double (nullable = true)\n",
      " |-- CholesterolHDL: double (nullable = true)\n",
      " |-- CholesterolTriglycerides: double (nullable = true)\n",
      " |-- MMSE: double (nullable = true)\n",
      " |-- FunctionalAssessment: double (nullable = true)\n",
      " |-- MemoryComplaints: integer (nullable = true)\n",
      " |-- BehavioralProblems: integer (nullable = true)\n",
      " |-- ADL: double (nullable = true)\n",
      " |-- Confusion: integer (nullable = true)\n",
      " |-- Disorientation: integer (nullable = true)\n",
      " |-- PersonalityChanges: integer (nullable = true)\n",
      " |-- DifficultyCompletingTasks: integer (nullable = true)\n",
      " |-- Forgetfulness: integer (nullable = true)\n",
      " |-- Diagnosis: integer (nullable = true)\n",
      " |-- DoctorInCharge: string (nullable = true)\n",
      "\n",
      "+---------+---+------+---------+--------------+------------------+-------+------------------+-----------------+------------------+-----------------+-----------------------+---------------------+--------+----------+----------+------------+----------+-----------+------------------+-----------------+-----------------+------------------------+------------------+--------------------+----------------+------------------+--------------------+---------+--------------+------------------+-------------------------+-------------+---------+--------------+\n",
      "|PatientID|Age|Gender|Ethnicity|EducationLevel|               BMI|Smoking|AlcoholConsumption| PhysicalActivity|       DietQuality|     SleepQuality|FamilyHistoryAlzheimers|CardiovascularDisease|Diabetes|Depression|HeadInjury|Hypertension|SystolicBP|DiastolicBP|  CholesterolTotal|   CholesterolLDL|   CholesterolHDL|CholesterolTriglycerides|              MMSE|FunctionalAssessment|MemoryComplaints|BehavioralProblems|                 ADL|Confusion|Disorientation|PersonalityChanges|DifficultyCompletingTasks|Forgetfulness|Diagnosis|DoctorInCharge|\n",
      "+---------+---+------+---------+--------------+------------------+-------+------------------+-----------------+------------------+-----------------+-----------------------+---------------------+--------+----------+----------+------------+----------+-----------+------------------+-----------------+-----------------+------------------------+------------------+--------------------+----------------+------------------+--------------------+---------+--------------+------------------+-------------------------+-------------+---------+--------------+\n",
      "|     4751| 73|     0|        0|             2|22.927749230993864|      0| 13.29721772827684|6.327112473553353|1.3472143059081076|9.025678665766115|                      0|                    0|       1|         1|         0|           0|       142|         72|242.36683969636556|56.15089696091113|33.68256349839592|      162.18914307736603| 21.46353236431666|   6.518876973217633|               0|                 0|  1.7258834599441897|        0|             0|                 0|                        1|            0|        0|     XXXConfid|\n",
      "|     4752| 89|     0|        0|             0| 26.82768119159602|      0|4.5425238177221905|7.619884540163032|0.5187671386507053|7.151292743051223|                      0|                    0|       0|         0|         0|           0|       115|         64|231.16259501016503|193.4079955157258|79.02847731570753|      294.63090921495643|20.613267308882918|   7.118695504189474|               0|                 0|  2.5924241326736475|        0|             0|                 0|                        0|            1|        0|     XXXConfid|\n",
      "|     4753| 73|     0|        3|             1|17.795882442817113|      0| 19.55508452555359|7.844987790974517| 1.826334664579784|9.673574157961111|                      1|                    0|       0|         0|         0|           0|        99|        116| 284.1818577646338|153.3227621844376|69.77229186479597|       83.63832413899468| 7.356248624670334|   5.895077345354194|               0|                 0|   7.119547742738579|        0|             1|                 0|                        1|            0|        0|     XXXConfid|\n",
      "|     4754| 74|     1|        0|             1| 33.80081704413547|      1|12.209265546203783|8.428001350491492|  7.43560414000302|8.392553685350862|                      0|                    0|       0|         0|         0|           0|       118|        115|159.58223960561193|65.36663683521382|68.45749070794797|       277.5773575001914|13.991127243891668|   8.965106303658107|               0|                 1|    6.48122585936608|        0|             0|                 0|                        0|            0|        0|     XXXConfid|\n",
      "|     4755| 89|     0|        0|             0|20.716973826446807|      0|18.454356090619612|6.310460689360432|0.7954975089177474|5.597237677578526|                      0|                    0|       0|         0|         0|           0|        94|        117| 237.6021836280377| 92.8696998816807|56.87430466708379|       291.1987801806695|13.517608895586092|   6.045038774287464|               0|                 0|0.014691221285652034|        0|             0|                 1|                        1|            0|        0|     XXXConfid|\n",
      "+---------+---+------+---------+--------------+------------------+-------+------------------+-----------------+------------------+-----------------+-----------------------+---------------------+--------+----------+----------+------------+----------+-----------+------------------+-----------------+-----------------+------------------------+------------------+--------------------+----------------+------------------+--------------------+---------+--------------+------------------+-------------------------+-------------+---------+--------------+\n",
      "only showing top 5 rows\n",
      "\n"
     ]
    }
   ],
   "source": [
    "# Create Spark session\n",
    "spark = SparkSession.builder \\\n",
    "    .appName(\"Alzheimer's Disease Analysis\") \\\n",
    "    .getOrCreate()\n",
    "\n",
    "# Load the CSV file into a Spark DataFrame\n",
    "file_path = \"Resources/alzheimers_disease_data.csv\"\n",
    "alzheimers_df = spark.read.csv(file_path, header=True, inferSchema=True)\n",
    "\n",
    "# Show the schema of the DataFrame\n",
    "alzheimers_df.printSchema()\n",
    "\n",
    "# Display the first few rows of the DataFrame\n",
    "alzheimers_df.show(5)\n"
   ]
  },
  {
   "cell_type": "code",
   "execution_count": 5,
   "metadata": {},
   "outputs": [],
   "source": [
    "# Separate target variable and features\n",
    "features = alzheimers_df.columns\n",
    "features.remove('PatientID')\n",
    "features.remove('Diagnosis')\n",
    "features.remove('DoctorInCharge')\n",
    "\n",
    "# StringIndexer for the target variable\n",
    "indexer = StringIndexer(inputCol=\"Diagnosis\", outputCol=\"label\")\n",
    "\n",
    "# VectorAssembler for the feature variables\n",
    "assembler = VectorAssembler(inputCols=features, outputCol=\"features\")\n",
    "\n",
    "# Create a pipeline to transform the data\n",
    "pipeline = Pipeline(stages=[indexer, assembler])\n",
    "\n",
    "# Fit and transform the data\n",
    "transformed_data = pipeline.fit(alzheimers_df).transform(alzheimers_df)\n",
    "\n",
    "# Split the data into training and testing sets\n",
    "train_data, test_data = transformed_data.randomSplit([0.8, 0.2], seed=random_state)\n"
   ]
  },
  {
   "cell_type": "code",
   "execution_count": 6,
   "metadata": {},
   "outputs": [
    {
     "name": "stdout",
     "output_type": "stream",
     "text": [
      "+-----+----------+-----+\n",
      "|label|prediction|count|\n",
      "+-----+----------+-----+\n",
      "|  1.0|       1.0|  114|\n",
      "|  0.0|       1.0|    6|\n",
      "|  1.0|       0.0|   35|\n",
      "|  0.0|       0.0|  259|\n",
      "+-----+----------+-----+\n",
      "\n",
      "Random Forest Accuracy: 0.9009661835748792\n",
      "Random Forest Confusion Matrix:\n",
      " None\n",
      "Random Forest Classification Report:\n",
      "    label  prediction  count\n",
      "0    1.0         1.0    114\n",
      "1    0.0         1.0      6\n",
      "2    1.0         0.0     35\n",
      "3    0.0         0.0    259\n"
     ]
    }
   ],
   "source": [
    "# Build Random Forest model\n",
    "rf = SparkRandomForestClassifier(featuresCol=\"features\", labelCol=\"label\", seed=random_state)\n",
    "rf_model = rf.fit(train_data)\n",
    "\n",
    "# Make predictions\n",
    "rf_predictions = rf_model.transform(test_data)\n",
    "\n",
    "# Evaluate the model\n",
    "evaluator = MulticlassClassificationEvaluator(labelCol=\"label\", predictionCol=\"prediction\", metricName=\"accuracy\")\n",
    "accuracy_rf = evaluator.evaluate(rf_predictions)\n",
    "\n",
    "conf_matrix_rf = rf_predictions.groupBy('label', 'prediction').count().show()\n",
    "class_report_rf = rf_predictions.groupBy('label', 'prediction').count().toPandas()\n",
    "\n",
    "# Display results\n",
    "print(\"Random Forest Accuracy:\", accuracy_rf)\n",
    "print(\"Random Forest Confusion Matrix:\\n\", conf_matrix_rf)\n",
    "print(\"Random Forest Classification Report:\\n\", class_report_rf)\n"
   ]
  },
  {
   "cell_type": "code",
   "execution_count": 7,
   "metadata": {},
   "outputs": [
    {
     "name": "stdout",
     "output_type": "stream",
     "text": [
      "+-----+----------+-----+\n",
      "|label|prediction|count|\n",
      "+-----+----------+-----+\n",
      "|  1.0|       1.0|  135|\n",
      "|  0.0|       1.0|   10|\n",
      "|  1.0|       0.0|   14|\n",
      "|  0.0|       0.0|  255|\n",
      "+-----+----------+-----+\n",
      "\n",
      "Decision Tree Accuracy: 0.9420289855072463\n",
      "Decision Tree Confusion Matrix:\n",
      " None\n",
      "Decision Tree Classification Report:\n",
      "    label  prediction  count\n",
      "0    1.0         1.0    135\n",
      "1    0.0         1.0     10\n",
      "2    1.0         0.0     14\n",
      "3    0.0         0.0    255\n"
     ]
    }
   ],
   "source": [
    "# Build Decision Tree model\n",
    "dt = SparkDecisionTreeClassifier(featuresCol=\"features\", labelCol=\"label\", seed=random_state)\n",
    "dt_model = dt.fit(train_data)\n",
    "\n",
    "# Make predictions\n",
    "dt_predictions = dt_model.transform(test_data)\n",
    "\n",
    "# Evaluate the model\n",
    "accuracy_dt = evaluator.evaluate(dt_predictions)\n",
    "\n",
    "conf_matrix_dt = dt_predictions.groupBy('label', 'prediction').count().show()\n",
    "class_report_dt = dt_predictions.groupBy('label', 'prediction').count().toPandas()\n",
    "\n",
    "# Display results\n",
    "print(\"Decision Tree Accuracy:\", accuracy_dt)\n",
    "print(\"Decision Tree Confusion Matrix:\\n\", conf_matrix_dt)\n",
    "print(\"Decision Tree Classification Report:\\n\", class_report_dt)\n"
   ]
  },
  {
   "cell_type": "markdown",
   "metadata": {},
   "source": [
    "### ROC (Receiver Operating Characteristic) Curve and AUC (Area Under the Curve)\n",
    "The Receiver Operating Characteristic (ROC) curve is a graphical plot that illustrates the diagnostic ability of a binary classifier as its discrimination threshold is varied. The Area Under the Curve (AUC) measures the entire two-dimensional area underneath the entire ROC curve."
   ]
  },
  {
   "cell_type": "code",
   "execution_count": 8,
   "metadata": {},
   "outputs": [
    {
     "name": "stdout",
     "output_type": "stream",
     "text": [
      "Random Forest AUC: 0.8712295808534887\n",
      "Decision Tree AUC: 0.9341522096998861\n"
     ]
    }
   ],
   "source": [
    "# Compute ROC curve and AUC for Random Forest\n",
    "rf_evaluator = BinaryClassificationEvaluator(labelCol=\"label\", rawPredictionCol=\"prediction\", metricName=\"areaUnderROC\")\n",
    "auc_rf = rf_evaluator.evaluate(rf_predictions)\n",
    "\n",
    "# Compute ROC curve and AUC for Decision Tree\n",
    "dt_evaluator = BinaryClassificationEvaluator(labelCol=\"label\", rawPredictionCol=\"prediction\", metricName=\"areaUnderROC\")\n",
    "auc_dt = dt_evaluator.evaluate(dt_predictions)\n",
    "\n",
    "# Display AUC results\n",
    "print(\"Random Forest AUC:\", auc_rf)\n",
    "print(\"Decision Tree AUC:\", auc_dt)\n"
   ]
  },
  {
   "cell_type": "code",
   "execution_count": 16,
   "metadata": {},
   "outputs": [
    {
     "data": {
      "text/html": [
       "\n",
       "  <div id=\"c0c747fc-ae3d-4d92-abbc-e8dcf3adf9d3\" data-root-id=\"p1202\" style=\"display: contents;\"></div>\n"
      ]
     },
     "metadata": {},
     "output_type": "display_data"
    },
    {
     "data": {
      "application/javascript": "(function(root) {\n  function embed_document(root) {\n  const docs_json = {\"34d496d2-443e-4149-be54-ab8d93c01df4\":{\"version\":\"3.3.4\",\"title\":\"Bokeh Application\",\"roots\":[{\"type\":\"object\",\"name\":\"Figure\",\"id\":\"p1202\",\"attributes\":{\"x_range\":{\"type\":\"object\",\"name\":\"DataRange1d\",\"id\":\"p1204\"},\"y_range\":{\"type\":\"object\",\"name\":\"FactorRange\",\"id\":\"p1212\",\"attributes\":{\"factors\":[\"Forgetfulness\",\"Disorientation\",\"HeadInjury\",\"Diabetes\",\"Gender\",\"Hypertension\",\"Depression\",\"PersonalityChanges\",\"DifficultyCompletingTasks\",\"FamilyHistoryAlzheimers\",\"CardiovascularDisease\",\"Ethnicity\",\"Confusion\",\"Smoking\",\"EducationLevel\",\"SystolicBP\",\"CholesterolTriglycerides\",\"Age\",\"CholesterolHDL\",\"CholesterolTotal\",\"PhysicalActivity\",\"DiastolicBP\",\"AlcoholConsumption\",\"BMI\",\"CholesterolLDL\",\"DietQuality\",\"SleepQuality\",\"BehavioralProblems\",\"MemoryComplaints\",\"MMSE\",\"FunctionalAssessment\",\"ADL\"]}},\"x_scale\":{\"type\":\"object\",\"name\":\"LinearScale\",\"id\":\"p1213\"},\"y_scale\":{\"type\":\"object\",\"name\":\"CategoricalScale\",\"id\":\"p1214\"},\"title\":{\"type\":\"object\",\"name\":\"Title\",\"id\":\"p1205\",\"attributes\":{\"text\":\"Feature Importance in Random Forest Model\"}},\"renderers\":[{\"type\":\"object\",\"name\":\"GlyphRenderer\",\"id\":\"p1242\",\"attributes\":{\"data_source\":{\"type\":\"object\",\"name\":\"ColumnDataSource\",\"id\":\"p1199\",\"attributes\":{\"selected\":{\"type\":\"object\",\"name\":\"Selection\",\"id\":\"p1200\",\"attributes\":{\"indices\":[],\"line_indices\":[]}},\"selection_policy\":{\"type\":\"object\",\"name\":\"UnionRenderers\",\"id\":\"p1201\"},\"data\":{\"type\":\"map\",\"entries\":[[\"index\",{\"type\":\"ndarray\",\"array\":{\"type\":\"bytes\",\"data\":\"HwAAABwAAAAOAAAADAAAAAEAAAAPAAAADQAAAB0AAAAeAAAACgAAAAsAAAACAAAAGwAAAAUAAAADAAAAEAAAABUAAAAAAAAAFAAAABIAAAAHAAAAEQAAAAYAAAAEAAAAEwAAAAgAAAAJAAAAGQAAABgAAAAWAAAAFwAAABoAAAA=\"},\"shape\":[32],\"dtype\":\"int32\",\"order\":\"little\"}],[\"Feature\",{\"type\":\"ndarray\",\"array\":[\"Forgetfulness\",\"Disorientation\",\"HeadInjury\",\"Diabetes\",\"Gender\",\"Hypertension\",\"Depression\",\"PersonalityChanges\",\"DifficultyCompletingTasks\",\"FamilyHistoryAlzheimers\",\"CardiovascularDisease\",\"Ethnicity\",\"Confusion\",\"Smoking\",\"EducationLevel\",\"SystolicBP\",\"CholesterolTriglycerides\",\"Age\",\"CholesterolHDL\",\"CholesterolTotal\",\"PhysicalActivity\",\"DiastolicBP\",\"AlcoholConsumption\",\"BMI\",\"CholesterolLDL\",\"DietQuality\",\"SleepQuality\",\"BehavioralProblems\",\"MemoryComplaints\",\"MMSE\",\"FunctionalAssessment\",\"ADL\"],\"shape\":[32],\"dtype\":\"object\",\"order\":\"little\"}],[\"Importance\",{\"type\":\"ndarray\",\"array\":{\"type\":\"bytes\",\"data\":\"AAAAAAAAAAAAAAAAAAAAAAAAAAAAAAAAAAAAAAAAAACj+swy7rANP8CvJ4fujEE/pfst8z8YTD96GmHLHhVTP5OtfAt4qlo/nWP/ItMqWz+g7+ULbw1dP6Tm0nvftGk/s5i402gkbT/TDcWkSWRtPwCoUEwolG0/Z4UiZlqKeD8VuUX33s16P9fr4NA8BXs/Tc6SA1JpgD/W53x1twmBPyFfhBafBYQ/HFI+XOthhz/KTO6dcGSHPxCJNsCbI4k/oAP/XCJUiT/bCFcDJ6uLP+DQ2Vmf0Y8/TBm0HWX1sj835xvyDuvAP5RPFTEzM8g/5dKw4KTcyz8ioSNTizHPPw==\"},\"shape\":[32],\"dtype\":\"float64\",\"order\":\"little\"}]]}}},\"view\":{\"type\":\"object\",\"name\":\"CDSView\",\"id\":\"p1243\",\"attributes\":{\"filter\":{\"type\":\"object\",\"name\":\"AllIndices\",\"id\":\"p1244\"}}},\"glyph\":{\"type\":\"object\",\"name\":\"HBar\",\"id\":\"p1239\",\"attributes\":{\"y\":{\"type\":\"field\",\"field\":\"Feature\"},\"height\":{\"type\":\"value\",\"value\":0.5},\"right\":{\"type\":\"field\",\"field\":\"Importance\"},\"line_color\":{\"type\":\"value\",\"value\":\"#1f77b4\"},\"fill_color\":{\"type\":\"value\",\"value\":\"#1f77b4\"}}},\"nonselection_glyph\":{\"type\":\"object\",\"name\":\"HBar\",\"id\":\"p1240\",\"attributes\":{\"y\":{\"type\":\"field\",\"field\":\"Feature\"},\"height\":{\"type\":\"value\",\"value\":0.5},\"right\":{\"type\":\"field\",\"field\":\"Importance\"},\"line_color\":{\"type\":\"value\",\"value\":\"#1f77b4\"},\"line_alpha\":{\"type\":\"value\",\"value\":0.1},\"fill_color\":{\"type\":\"value\",\"value\":\"#1f77b4\"},\"fill_alpha\":{\"type\":\"value\",\"value\":0.1},\"hatch_alpha\":{\"type\":\"value\",\"value\":0.1}}},\"muted_glyph\":{\"type\":\"object\",\"name\":\"HBar\",\"id\":\"p1241\",\"attributes\":{\"y\":{\"type\":\"field\",\"field\":\"Feature\"},\"height\":{\"type\":\"value\",\"value\":0.5},\"right\":{\"type\":\"field\",\"field\":\"Importance\"},\"line_color\":{\"type\":\"value\",\"value\":\"#1f77b4\"},\"line_alpha\":{\"type\":\"value\",\"value\":0.2},\"fill_color\":{\"type\":\"value\",\"value\":\"#1f77b4\"},\"fill_alpha\":{\"type\":\"value\",\"value\":0.2},\"hatch_alpha\":{\"type\":\"value\",\"value\":0.2}}}}}],\"toolbar\":{\"type\":\"object\",\"name\":\"Toolbar\",\"id\":\"p1211\",\"attributes\":{\"tools\":[{\"type\":\"object\",\"name\":\"PanTool\",\"id\":\"p1225\"},{\"type\":\"object\",\"name\":\"WheelZoomTool\",\"id\":\"p1226\",\"attributes\":{\"renderers\":\"auto\"}},{\"type\":\"object\",\"name\":\"BoxZoomTool\",\"id\":\"p1227\",\"attributes\":{\"overlay\":{\"type\":\"object\",\"name\":\"BoxAnnotation\",\"id\":\"p1228\",\"attributes\":{\"syncable\":false,\"level\":\"overlay\",\"visible\":false,\"left\":{\"type\":\"number\",\"value\":\"nan\"},\"right\":{\"type\":\"number\",\"value\":\"nan\"},\"top\":{\"type\":\"number\",\"value\":\"nan\"},\"bottom\":{\"type\":\"number\",\"value\":\"nan\"},\"left_units\":\"canvas\",\"right_units\":\"canvas\",\"top_units\":\"canvas\",\"bottom_units\":\"canvas\",\"line_color\":\"black\",\"line_alpha\":1.0,\"line_width\":2,\"line_dash\":[4,4],\"fill_color\":\"lightgrey\",\"fill_alpha\":0.5}}}},{\"type\":\"object\",\"name\":\"SaveTool\",\"id\":\"p1233\"},{\"type\":\"object\",\"name\":\"ResetTool\",\"id\":\"p1234\"},{\"type\":\"object\",\"name\":\"HelpTool\",\"id\":\"p1235\"}]}},\"left\":[{\"type\":\"object\",\"name\":\"CategoricalAxis\",\"id\":\"p1220\",\"attributes\":{\"ticker\":{\"type\":\"object\",\"name\":\"CategoricalTicker\",\"id\":\"p1221\"},\"formatter\":{\"type\":\"object\",\"name\":\"CategoricalTickFormatter\",\"id\":\"p1222\"},\"axis_label\":\"Feature\",\"major_label_policy\":{\"type\":\"object\",\"name\":\"AllLabels\",\"id\":\"p1223\"}}}],\"below\":[{\"type\":\"object\",\"name\":\"LinearAxis\",\"id\":\"p1215\",\"attributes\":{\"ticker\":{\"type\":\"object\",\"name\":\"BasicTicker\",\"id\":\"p1216\",\"attributes\":{\"mantissas\":[1,2,5]}},\"formatter\":{\"type\":\"object\",\"name\":\"BasicTickFormatter\",\"id\":\"p1217\"},\"axis_label\":\"Importance\",\"major_label_policy\":{\"type\":\"object\",\"name\":\"AllLabels\",\"id\":\"p1218\"}}}],\"center\":[{\"type\":\"object\",\"name\":\"Grid\",\"id\":\"p1219\",\"attributes\":{\"axis\":{\"id\":\"p1215\"}}},{\"type\":\"object\",\"name\":\"Grid\",\"id\":\"p1224\",\"attributes\":{\"dimension\":1,\"axis\":{\"id\":\"p1220\"}}}]}}]}};\n  const render_items = [{\"docid\":\"34d496d2-443e-4149-be54-ab8d93c01df4\",\"roots\":{\"p1202\":\"c0c747fc-ae3d-4d92-abbc-e8dcf3adf9d3\"},\"root_ids\":[\"p1202\"]}];\n  root.Bokeh.embed.embed_items_notebook(docs_json, render_items);\n  }\n  if (root.Bokeh !== undefined) {\n    embed_document(root);\n  } else {\n    let attempts = 0;\n    const timer = setInterval(function(root) {\n      if (root.Bokeh !== undefined) {\n        clearInterval(timer);\n        embed_document(root);\n      } else {\n        attempts++;\n        if (attempts > 100) {\n          clearInterval(timer);\n          console.log(\"Bokeh: ERROR: Unable to run BokehJS code because BokehJS library is missing\");\n        }\n      }\n    }, 10, root)\n  }\n})(window);",
      "application/vnd.bokehjs_exec.v0+json": ""
     },
     "metadata": {
      "application/vnd.bokehjs_exec.v0+json": {
       "id": "p1202"
      }
     },
     "output_type": "display_data"
    }
   ],
   "source": [
    "# Feature importance for Random Forest\n",
    "rf_feature_importance = rf_model.featureImportances\n",
    "features = alzheimers_df.columns\n",
    "features.remove('PatientID')\n",
    "features.remove('Diagnosis')\n",
    "features.remove('DoctorInCharge')\n",
    "\n",
    "rf_importance_df = pd.DataFrame(list(zip(features, rf_feature_importance)), columns=[\"Feature\", \"Importance\"])\n",
    "rf_importance_df = rf_importance_df.sort_values(by=\"Importance\", ascending=True)\n",
    "\n",
    "# Create a ColumnDataSource for Bokeh\n",
    "source_rf = ColumnDataSource(rf_importance_df)\n",
    "\n",
    "# Create a horizontal bar chart\n",
    "p_rf = figure(y_range=rf_importance_df['Feature'], title=\"Feature Importance in Random Forest Model\",\n",
    "              x_axis_label='Importance', y_axis_label='Feature')\n",
    "\n",
    "p_rf.hbar(y='Feature', right='Importance', source=source_rf, height=0.5)\n",
    "\n",
    "show(p_rf)\n"
   ]
  },
  {
   "cell_type": "code",
   "execution_count": 17,
   "metadata": {},
   "outputs": [
    {
     "data": {
      "text/html": [
       "\n",
       "  <div id=\"ccf71066-53e1-4237-b5b2-064b6ab241d9\" data-root-id=\"p1250\" style=\"display: contents;\"></div>\n"
      ]
     },
     "metadata": {},
     "output_type": "display_data"
    },
    {
     "data": {
      "application/javascript": "(function(root) {\n  function embed_document(root) {\n  const docs_json = {\"734b8cc6-7197-4669-a609-dd55226268a7\":{\"version\":\"3.3.4\",\"title\":\"Bokeh Application\",\"roots\":[{\"type\":\"object\",\"name\":\"Figure\",\"id\":\"p1250\",\"attributes\":{\"x_range\":{\"type\":\"object\",\"name\":\"DataRange1d\",\"id\":\"p1252\"},\"y_range\":{\"type\":\"object\",\"name\":\"FactorRange\",\"id\":\"p1260\",\"attributes\":{\"factors\":[\"Age\",\"PersonalityChanges\",\"Disorientation\",\"Confusion\",\"CholesterolHDL\",\"CholesterolLDL\",\"CholesterolTotal\",\"DiastolicBP\",\"DifficultyCompletingTasks\",\"HeadInjury\",\"Depression\",\"Diabetes\",\"Hypertension\",\"FamilyHistoryAlzheimers\",\"Gender\",\"Ethnicity\",\"CardiovascularDisease\",\"Smoking\",\"Forgetfulness\",\"PhysicalActivity\",\"SleepQuality\",\"AlcoholConsumption\",\"DietQuality\",\"EducationLevel\",\"SystolicBP\",\"BMI\",\"CholesterolTriglycerides\",\"BehavioralProblems\",\"MemoryComplaints\",\"FunctionalAssessment\",\"ADL\",\"MMSE\"]}},\"x_scale\":{\"type\":\"object\",\"name\":\"LinearScale\",\"id\":\"p1261\"},\"y_scale\":{\"type\":\"object\",\"name\":\"CategoricalScale\",\"id\":\"p1262\"},\"title\":{\"type\":\"object\",\"name\":\"Title\",\"id\":\"p1253\",\"attributes\":{\"text\":\"Feature Importance in Decision Tree Model\"}},\"renderers\":[{\"type\":\"object\",\"name\":\"GlyphRenderer\",\"id\":\"p1290\",\"attributes\":{\"data_source\":{\"type\":\"object\",\"name\":\"ColumnDataSource\",\"id\":\"p1247\",\"attributes\":{\"selected\":{\"type\":\"object\",\"name\":\"Selection\",\"id\":\"p1248\",\"attributes\":{\"indices\":[],\"line_indices\":[]}},\"selection_policy\":{\"type\":\"object\",\"name\":\"UnionRenderers\",\"id\":\"p1249\"},\"data\":{\"type\":\"map\",\"entries\":[[\"index\",{\"type\":\"ndarray\",\"array\":{\"type\":\"bytes\",\"data\":\"AAAAAB0AAAAcAAAAGwAAABQAAAATAAAAEgAAABEAAAAeAAAADgAAAA0AAAAMAAAADwAAAAoAAAABAAAAAgAAAAsAAAAFAAAAHwAAAAcAAAAJAAAABgAAAAgAAAADAAAAEAAAAAQAAAAVAAAAGQAAABgAAAAXAAAAGgAAABYAAAA=\"},\"shape\":[32],\"dtype\":\"int32\",\"order\":\"little\"}],[\"Feature\",{\"type\":\"ndarray\",\"array\":[\"Age\",\"PersonalityChanges\",\"Disorientation\",\"Confusion\",\"CholesterolHDL\",\"CholesterolLDL\",\"CholesterolTotal\",\"DiastolicBP\",\"DifficultyCompletingTasks\",\"HeadInjury\",\"Depression\",\"Diabetes\",\"Hypertension\",\"FamilyHistoryAlzheimers\",\"Gender\",\"Ethnicity\",\"CardiovascularDisease\",\"Smoking\",\"Forgetfulness\",\"PhysicalActivity\",\"SleepQuality\",\"AlcoholConsumption\",\"DietQuality\",\"EducationLevel\",\"SystolicBP\",\"BMI\",\"CholesterolTriglycerides\",\"BehavioralProblems\",\"MemoryComplaints\",\"FunctionalAssessment\",\"ADL\",\"MMSE\"],\"shape\":[32],\"dtype\":\"object\",\"order\":\"little\"}],[\"Importance\",{\"type\":\"ndarray\",\"array\":{\"type\":\"bytes\",\"data\":\"AAAAAAAAAAAAAAAAAAAAAAAAAAAAAAAAAAAAAAAAAAAAAAAAAAAAAAAAAAAAAAAAAAAAAAAAAAAAAAAAAAAAAAAAAAAAAAAAAAAAAAAAAAAAAAAAAAAAAAAAAAAAAAAAAAAAAAAAAAAAAAAAAAAAAAAAAAAAAAAAAAAAAAAAAAAAAAAAAAAAAAAAAAAAAAAAAAAAAAAAAAAAAAAAAAAAAAAAAAAAAAAAAAAAAAAAAAC98TWwS79DP8V6whg9A2M/9mlRRvi2Zj8Ul6CUcmZnP+qzMNGxa3I/vD1EC3sTuz9FlbIyzYrEPzswU/jZUMY/ODn/VtkFzz93Kig/kXTTPw==\"},\"shape\":[32],\"dtype\":\"float64\",\"order\":\"little\"}]]}}},\"view\":{\"type\":\"object\",\"name\":\"CDSView\",\"id\":\"p1291\",\"attributes\":{\"filter\":{\"type\":\"object\",\"name\":\"AllIndices\",\"id\":\"p1292\"}}},\"glyph\":{\"type\":\"object\",\"name\":\"HBar\",\"id\":\"p1287\",\"attributes\":{\"y\":{\"type\":\"field\",\"field\":\"Feature\"},\"height\":{\"type\":\"value\",\"value\":0.5},\"right\":{\"type\":\"field\",\"field\":\"Importance\"},\"line_color\":{\"type\":\"value\",\"value\":\"#1f77b4\"},\"fill_color\":{\"type\":\"value\",\"value\":\"#1f77b4\"}}},\"nonselection_glyph\":{\"type\":\"object\",\"name\":\"HBar\",\"id\":\"p1288\",\"attributes\":{\"y\":{\"type\":\"field\",\"field\":\"Feature\"},\"height\":{\"type\":\"value\",\"value\":0.5},\"right\":{\"type\":\"field\",\"field\":\"Importance\"},\"line_color\":{\"type\":\"value\",\"value\":\"#1f77b4\"},\"line_alpha\":{\"type\":\"value\",\"value\":0.1},\"fill_color\":{\"type\":\"value\",\"value\":\"#1f77b4\"},\"fill_alpha\":{\"type\":\"value\",\"value\":0.1},\"hatch_alpha\":{\"type\":\"value\",\"value\":0.1}}},\"muted_glyph\":{\"type\":\"object\",\"name\":\"HBar\",\"id\":\"p1289\",\"attributes\":{\"y\":{\"type\":\"field\",\"field\":\"Feature\"},\"height\":{\"type\":\"value\",\"value\":0.5},\"right\":{\"type\":\"field\",\"field\":\"Importance\"},\"line_color\":{\"type\":\"value\",\"value\":\"#1f77b4\"},\"line_alpha\":{\"type\":\"value\",\"value\":0.2},\"fill_color\":{\"type\":\"value\",\"value\":\"#1f77b4\"},\"fill_alpha\":{\"type\":\"value\",\"value\":0.2},\"hatch_alpha\":{\"type\":\"value\",\"value\":0.2}}}}}],\"toolbar\":{\"type\":\"object\",\"name\":\"Toolbar\",\"id\":\"p1259\",\"attributes\":{\"tools\":[{\"type\":\"object\",\"name\":\"PanTool\",\"id\":\"p1273\"},{\"type\":\"object\",\"name\":\"WheelZoomTool\",\"id\":\"p1274\",\"attributes\":{\"renderers\":\"auto\"}},{\"type\":\"object\",\"name\":\"BoxZoomTool\",\"id\":\"p1275\",\"attributes\":{\"overlay\":{\"type\":\"object\",\"name\":\"BoxAnnotation\",\"id\":\"p1276\",\"attributes\":{\"syncable\":false,\"level\":\"overlay\",\"visible\":false,\"left\":{\"type\":\"number\",\"value\":\"nan\"},\"right\":{\"type\":\"number\",\"value\":\"nan\"},\"top\":{\"type\":\"number\",\"value\":\"nan\"},\"bottom\":{\"type\":\"number\",\"value\":\"nan\"},\"left_units\":\"canvas\",\"right_units\":\"canvas\",\"top_units\":\"canvas\",\"bottom_units\":\"canvas\",\"line_color\":\"black\",\"line_alpha\":1.0,\"line_width\":2,\"line_dash\":[4,4],\"fill_color\":\"lightgrey\",\"fill_alpha\":0.5}}}},{\"type\":\"object\",\"name\":\"SaveTool\",\"id\":\"p1281\"},{\"type\":\"object\",\"name\":\"ResetTool\",\"id\":\"p1282\"},{\"type\":\"object\",\"name\":\"HelpTool\",\"id\":\"p1283\"}]}},\"left\":[{\"type\":\"object\",\"name\":\"CategoricalAxis\",\"id\":\"p1268\",\"attributes\":{\"ticker\":{\"type\":\"object\",\"name\":\"CategoricalTicker\",\"id\":\"p1269\"},\"formatter\":{\"type\":\"object\",\"name\":\"CategoricalTickFormatter\",\"id\":\"p1270\"},\"axis_label\":\"Feature\",\"major_label_policy\":{\"type\":\"object\",\"name\":\"AllLabels\",\"id\":\"p1271\"}}}],\"below\":[{\"type\":\"object\",\"name\":\"LinearAxis\",\"id\":\"p1263\",\"attributes\":{\"ticker\":{\"type\":\"object\",\"name\":\"BasicTicker\",\"id\":\"p1264\",\"attributes\":{\"mantissas\":[1,2,5]}},\"formatter\":{\"type\":\"object\",\"name\":\"BasicTickFormatter\",\"id\":\"p1265\"},\"axis_label\":\"Importance\",\"major_label_policy\":{\"type\":\"object\",\"name\":\"AllLabels\",\"id\":\"p1266\"}}}],\"center\":[{\"type\":\"object\",\"name\":\"Grid\",\"id\":\"p1267\",\"attributes\":{\"axis\":{\"id\":\"p1263\"}}},{\"type\":\"object\",\"name\":\"Grid\",\"id\":\"p1272\",\"attributes\":{\"dimension\":1,\"axis\":{\"id\":\"p1268\"}}}]}}]}};\n  const render_items = [{\"docid\":\"734b8cc6-7197-4669-a609-dd55226268a7\",\"roots\":{\"p1250\":\"ccf71066-53e1-4237-b5b2-064b6ab241d9\"},\"root_ids\":[\"p1250\"]}];\n  root.Bokeh.embed.embed_items_notebook(docs_json, render_items);\n  }\n  if (root.Bokeh !== undefined) {\n    embed_document(root);\n  } else {\n    let attempts = 0;\n    const timer = setInterval(function(root) {\n      if (root.Bokeh !== undefined) {\n        clearInterval(timer);\n        embed_document(root);\n      } else {\n        attempts++;\n        if (attempts > 100) {\n          clearInterval(timer);\n          console.log(\"Bokeh: ERROR: Unable to run BokehJS code because BokehJS library is missing\");\n        }\n      }\n    }, 10, root)\n  }\n})(window);",
      "application/vnd.bokehjs_exec.v0+json": ""
     },
     "metadata": {
      "application/vnd.bokehjs_exec.v0+json": {
       "id": "p1250"
      }
     },
     "output_type": "display_data"
    }
   ],
   "source": [
    "# Feature importance for Decision Tree\n",
    "dt_feature_importance = dt_model.featureImportances\n",
    "dt_importance_df = pd.DataFrame(list(zip(features, dt_feature_importance)), columns=[\"Feature\", \"Importance\"])\n",
    "dt_importance_df = dt_importance_df.sort_values(by=\"Importance\", ascending=True)\n",
    "\n",
    "# Create a ColumnDataSource for Bokeh\n",
    "source_dt = ColumnDataSource(dt_importance_df)\n",
    "\n",
    "# Create a horizontal bar chart\n",
    "p_dt = figure(y_range=dt_importance_df['Feature'], title=\"Feature Importance in Decision Tree Model\",\n",
    "              x_axis_label='Importance', y_axis_label='Feature')\n",
    "\n",
    "p_dt.hbar(y='Feature', right='Importance', source=source_dt, height=0.5)\n",
    "\n",
    "show(p_dt)\n"
   ]
  },
  {
   "cell_type": "code",
   "execution_count": 11,
   "metadata": {},
   "outputs": [
    {
     "name": "stdout",
     "output_type": "stream",
     "text": [
      "Random Forest Accuracy: 0.9009661835748792\n",
      "Random Forest AUC: 0.8712295808534887\n",
      "Decision Tree Accuracy: 0.9420289855072463\n",
      "Decision Tree AUC: 0.9341522096998861\n"
     ]
    }
   ],
   "source": [
    "# Overall model performance display\n",
    "print(\"Random Forest Accuracy:\", accuracy_rf)\n",
    "print(\"Random Forest AUC:\", auc_rf)\n",
    "print(\"Decision Tree Accuracy:\", accuracy_dt)\n",
    "print(\"Decision Tree AUC:\", auc_dt)\n"
   ]
  },
  {
   "cell_type": "code",
   "execution_count": null,
   "metadata": {},
   "outputs": [],
   "source": []
  }
 ],
 "metadata": {
  "kernelspec": {
   "display_name": "dev",
   "language": "python",
   "name": "python3"
  },
  "language_info": {
   "codemirror_mode": {
    "name": "ipython",
    "version": 3
   },
   "file_extension": ".py",
   "mimetype": "text/x-python",
   "name": "python",
   "nbconvert_exporter": "python",
   "pygments_lexer": "ipython3",
   "version": "3.10.13"
  }
 },
 "nbformat": 4,
 "nbformat_minor": 2
}
