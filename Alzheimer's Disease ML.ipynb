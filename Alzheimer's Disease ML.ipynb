{
 "cells": [
  {
   "cell_type": "markdown",
   "metadata": {},
   "source": [
    "# Alzheimer's Disease Risk Building a Machine Learning Model using PySpark"
   ]
  },
  {
   "cell_type": "code",
   "execution_count": 4,
   "metadata": {},
   "outputs": [],
   "source": [
    "from pyspark.sql import SparkSession\n",
    "from pyspark.ml.feature import VectorAssembler\n",
    "from pyspark.ml.classification import LogisticRegression\n",
    "from pyspark.ml.evaluation import MulticlassClassificationEvaluator"
   ]
  },
  {
   "cell_type": "code",
   "execution_count": 5,
   "metadata": {},
   "outputs": [
    {
     "name": "stdout",
     "output_type": "stream",
     "text": [
      "root\n",
      " |-- PatientID: integer (nullable = true)\n",
      " |-- Age: integer (nullable = true)\n",
      " |-- Gender: integer (nullable = true)\n",
      " |-- Ethnicity: integer (nullable = true)\n",
      " |-- EducationLevel: integer (nullable = true)\n",
      " |-- BMI: double (nullable = true)\n",
      " |-- Smoking: integer (nullable = true)\n",
      " |-- AlcoholConsumption: double (nullable = true)\n",
      " |-- PhysicalActivity: double (nullable = true)\n",
      " |-- DietQuality: double (nullable = true)\n",
      " |-- SleepQuality: double (nullable = true)\n",
      " |-- FamilyHistoryAlzheimers: integer (nullable = true)\n",
      " |-- CardiovascularDisease: integer (nullable = true)\n",
      " |-- Diabetes: integer (nullable = true)\n",
      " |-- Depression: integer (nullable = true)\n",
      " |-- HeadInjury: integer (nullable = true)\n",
      " |-- Hypertension: integer (nullable = true)\n",
      " |-- SystolicBP: integer (nullable = true)\n",
      " |-- DiastolicBP: integer (nullable = true)\n",
      " |-- CholesterolTotal: double (nullable = true)\n",
      " |-- CholesterolLDL: double (nullable = true)\n",
      " |-- CholesterolHDL: double (nullable = true)\n",
      " |-- CholesterolTriglycerides: double (nullable = true)\n",
      " |-- MMSE: double (nullable = true)\n",
      " |-- FunctionalAssessment: double (nullable = true)\n",
      " |-- MemoryComplaints: integer (nullable = true)\n",
      " |-- BehavioralProblems: integer (nullable = true)\n",
      " |-- ADL: double (nullable = true)\n",
      " |-- Confusion: integer (nullable = true)\n",
      " |-- Disorientation: integer (nullable = true)\n",
      " |-- PersonalityChanges: integer (nullable = true)\n",
      " |-- DifficultyCompletingTasks: integer (nullable = true)\n",
      " |-- Forgetfulness: integer (nullable = true)\n",
      " |-- Diagnosis: integer (nullable = true)\n",
      " |-- DoctorInCharge: string (nullable = true)\n",
      "\n",
      "+---------+---+------+---------+--------------+------------------+-------+------------------+-------------------+-------------------+-----------------+-----------------------+---------------------+--------+----------+----------+------------+----------+-----------+------------------+------------------+------------------+------------------------+------------------+--------------------+----------------+------------------+--------------------+---------+--------------+------------------+-------------------------+-------------+---------+--------------+\n",
      "|PatientID|Age|Gender|Ethnicity|EducationLevel|               BMI|Smoking|AlcoholConsumption|   PhysicalActivity|        DietQuality|     SleepQuality|FamilyHistoryAlzheimers|CardiovascularDisease|Diabetes|Depression|HeadInjury|Hypertension|SystolicBP|DiastolicBP|  CholesterolTotal|    CholesterolLDL|    CholesterolHDL|CholesterolTriglycerides|              MMSE|FunctionalAssessment|MemoryComplaints|BehavioralProblems|                 ADL|Confusion|Disorientation|PersonalityChanges|DifficultyCompletingTasks|Forgetfulness|Diagnosis|DoctorInCharge|\n",
      "+---------+---+------+---------+--------------+------------------+-------+------------------+-------------------+-------------------+-----------------+-----------------------+---------------------+--------+----------+----------+------------+----------+-----------+------------------+------------------+------------------+------------------------+------------------+--------------------+----------------+------------------+--------------------+---------+--------------+------------------+-------------------------+-------------+---------+--------------+\n",
      "|     4751| 73|     0|        0|             2|22.927749230993864|      0| 13.29721772827684|  6.327112473553353| 1.3472143059081076|9.025678665766115|                      0|                    0|       1|         1|         0|           0|       142|         72|242.36683969636556| 56.15089696091113| 33.68256349839592|      162.18914307736603| 21.46353236431666|   6.518876973217633|               0|                 0|  1.7258834599441897|        0|             0|                 0|                        1|            0|        0|     XXXConfid|\n",
      "|     4752| 89|     0|        0|             0| 26.82768119159602|      0|4.5425238177221905|  7.619884540163032| 0.5187671386507053|7.151292743051223|                      0|                    0|       0|         0|         0|           0|       115|         64|231.16259501016503| 193.4079955157258| 79.02847731570753|      294.63090921495643|20.613267308882918|   7.118695504189474|               0|                 0|  2.5924241326736475|        0|             0|                 0|                        0|            1|        0|     XXXConfid|\n",
      "|     4753| 73|     0|        3|             1|17.795882442817113|      0| 19.55508452555359|  7.844987790974517|  1.826334664579784|9.673574157961111|                      1|                    0|       0|         0|         0|           0|        99|        116| 284.1818577646338| 153.3227621844376| 69.77229186479597|       83.63832413899468| 7.356248624670334|   5.895077345354194|               0|                 0|   7.119547742738579|        0|             1|                 0|                        1|            0|        0|     XXXConfid|\n",
      "|     4754| 74|     1|        0|             1| 33.80081704413547|      1|12.209265546203783|  8.428001350491492|   7.43560414000302|8.392553685350862|                      0|                    0|       0|         0|         0|           0|       118|        115|159.58223960561193| 65.36663683521382| 68.45749070794797|       277.5773575001914|13.991127243891668|   8.965106303658107|               0|                 1|    6.48122585936608|        0|             0|                 0|                        0|            0|        0|     XXXConfid|\n",
      "|     4755| 89|     0|        0|             0|20.716973826446807|      0|18.454356090619612|  6.310460689360432| 0.7954975089177474|5.597237677578526|                      0|                    0|       0|         0|         0|           0|        94|        117| 237.6021836280377|  92.8696998816807| 56.87430466708379|       291.1987801806695|13.517608895586092|   6.045038774287464|               0|                 0|0.014691221285652034|        0|             0|                 1|                        1|            0|        0|     XXXConfid|\n",
      "|     4756| 86|     1|        1|             1|30.626885546270938|      0| 4.140143784276235|0.21106163066602068|  1.584922010674088|7.261952504681128|                      0|                    0|       1|         0|         0|           0|       168|         62|280.71253869023684|198.33462850589245| 79.08050328760615|        263.943654869938| 27.51752897800825|   5.510144075004051|               0|                 0|   9.015686282121859|        1|             0|                 0|                        0|            0|        0|     XXXConfid|\n",
      "|     4757| 68|     0|        3|             2|38.387621858169126|      1|0.6460472705489217|  9.257694909794447|  5.897387927490878|5.477685593697583|                      0|                    0|       0|         0|         1|           0|       143|         88| 263.7341489945217| 52.47066963316466| 66.53336947612827|      216.48917492881301|1.9644126908445048|   6.062124473797494|               0|                 0|    9.23632827520978|        0|             0|                 0|                        0|            1|        0|     XXXConfid|\n",
      "|     4758| 75|     0|        0|             1|18.776009409162835|      0|13.723825705512622|  4.649450668217012|  8.341903191502704|4.213209925103094|                      0|                    0|       0|         0|         0|           0|       117|         63|151.38313679710524| 69.62351040559693| 77.34681647712739|      210.57086609648726|10.139568430460008|  3.4013735067187523|               0|                 0|   4.517248273101627|        1|             0|                 0|                        0|            1|        1|     XXXConfid|\n",
      "|     4759| 72|     1|        1|             0|27.833188380332352|      0|12.167847629604712|  1.531359787981249|  6.736882043694737|5.748223868874191|                      0|                    0|       0|         0|         0|           1|       117|        119|233.60575518016793| 144.0457395725674|43.075893172318416|      151.16418620325027| 25.82073187432767|    7.39606097967361|               0|                 1|  0.7562318075997931|        0|             0|                 1|                        0|            0|        0|     XXXConfid|\n",
      "|     4760| 87|     0|        0|             0| 35.45630172642629|      1| 16.02868823659191|  6.440772687360699|  8.086019121177605| 7.55177344379122|                      0|                    1|       0|         0|         0|           0|       130|         78| 281.6300502325664|130.49758044040834| 74.29124729357356|      144.17597454508945| 28.38840942324381|  1.1489035304880713|               0|                 1|   4.554393865141739|        0|             0|                 0|                        0|            0|        0|     XXXConfid|\n",
      "|     4761| 89|     0|        3|             1| 39.46303422106146|      0| 9.811292128906842|  8.819950351470192|0.43402027782902697|7.644097300051016|                      0|                    0|       0|         0|         0|           0|       131|         86|224.52643740134405| 160.7564751153461| 68.32831269134016|      172.78522009458237|19.696106706450212|   8.246968116664839|               0|                 0|  2.0189400651747635|        0|             1|                 0|                        0|            1|        0|     XXXConfid|\n",
      "|     4762| 78|     0|        0|             2|22.463382649410605|      1|19.300182977973385| 3.8346393816450988|  8.279189503998566|8.312325536865838|                      0|                    0|       1|         0|         0|           1|       165|         97|254.58656029579038| 132.9600115403453|39.009281903548505|      344.44859497634735|21.205615021989942|  5.5685414382390706|               0|                 0|   5.467266760513016|        0|             1|                 0|                        1|            1|        0|     XXXConfid|\n",
      "|     4763| 84|     1|        0|             1|26.770945999107713|      0|10.978021644757177| 3.9780788724660274|    7.0244173809347|8.253004551076643|                      1|                    0|       0|         1|         0|           0|       145|         63|254.43538612927824|148.29142290554302| 98.58554707886915|       81.52513703747937|2.2003397962979965|  0.5151364226639332|               0|                 0|   9.003759363143377|        1|             0|                 0|                        0|            0|        0|     XXXConfid|\n",
      "|     4764| 78|     1|        0|             1|28.870652386039602|      1|10.194706301683002| 0.6312807270806853|  1.653281416913489|7.333235622932847|                      1|                    0|       0|         0|         0|           0|       137|         82| 221.3053384595624|194.60037890258272| 26.33392004278159|       357.5827714598004| 7.852082323399632|   4.510712861479074|               1|                 0|  1.9395955375257012|        0|             1|                 0|                        0|            0|        1|     XXXConfid|\n",
      "|     4765| 64|     1|        0|             2|27.942862734988346|      0|2.1757796502821014|  9.714565829085549|  5.317231743513623|9.087141194537402|                      0|                    1|       1|         1|         0|           0|        94|         98|247.58461434698003|193.90848144359904| 94.81173993148599|      287.04788285803414|10.786498514103378|  6.7916856212055645|               0|                 0|   5.505587270988235|        1|             1|                 1|                        0|            0|        0|     XXXConfid|\n",
      "|     4766| 69|     0|        0|             1| 18.04591747393549|      0| 8.116831615915244|  2.956494729127719|  7.570632793725998|6.736796641729542|                      0|                    0|       0|         0|         0|           1|       124|         72|204.67075926226835| 97.75564857738567| 99.28633938440575|      246.91076705746605|22.715161212568912|   3.743028013922194|               0|                 0|  1.9111312323709861|        0|             0|                 0|                        0|            1|        1|     XXXConfid|\n",
      "|     4767| 63|     1|        1|             2|22.822896244065568|      1| 4.433961006314455| 7.1828945553896775|  7.929485772084872|4.654828040280001|                      0|                    1|       0|         0|         0|           0|       148|        116|200.50012324501552| 181.0235603909688| 51.86713802597754|      119.65638624484552|7.1676022573090235|   9.365946321811961|               1|                 0|  1.3820863701922304|        0|             0|                 0|                        0|            0|        1|     XXXConfid|\n",
      "|     4768| 65|     1|        0|             1| 16.33328275322603|      1| 4.161794911046941| 1.3063204115225913| 2.8889355278712294|5.436422671151927|                      0|                    0|       0|         0|         0|           1|       154|         61| 183.1123334671573|101.25819637493115| 39.22966601450789|       374.8551646323911|18.049293886661907|  4.0195462370333335|               0|                 0|  2.8929399362730157|        0|             0|                 0|                        0|            0|        1|     XXXConfid|\n",
      "|     4769| 72|     0|        0|             2| 37.93246902566973|      0| 9.385602765284368|  7.127939893468465| 3.3149826638192073|6.790196088361632|                      0|                    0|       0|         1|         0|           0|       132|        107|214.90840553410436| 132.1273691337255|20.887996233421724|      192.76077931992407|15.544705792805381|   5.189535531063215|               0|                 0|   7.498113889775122|        0|             0|                 0|                        0|            1|        0|     XXXConfid|\n",
      "|     4770| 68|     0|        0|             3|20.041400357053135|      0|18.426364465753824|   4.06071391664163|  3.361536132824541|7.393126210784456|                      0|                    0|       0|         0|         0|           0|       144|         98|195.20463483092433|181.97792891304283|50.597866648083844|        52.7869456132406|11.044984290585633|  0.5356392113596287|               0|                 1|   6.538580145491703|        0|             0|                 0|                        0|            1|        1|     XXXConfid|\n",
      "+---------+---+------+---------+--------------+------------------+-------+------------------+-------------------+-------------------+-----------------+-----------------------+---------------------+--------+----------+----------+------------+----------+-----------+------------------+------------------+------------------+------------------------+------------------+--------------------+----------------+------------------+--------------------+---------+--------------+------------------+-------------------------+-------------+---------+--------------+\n",
      "only showing top 20 rows\n",
      "\n"
     ]
    }
   ],
   "source": [
    "# Create Spark session\n",
    "spark = SparkSession.builder \\\n",
    "    .appName(\"Alzheimer's Disease Analysis\") \\\n",
    "    .getOrCreate()\n",
    "\n",
    "# Load the CSV file into a DataFrame\n",
    "file_path = \"Resources/alzheimers_disease_data.csv\"\n",
    "alzheimers_df = spark.read.csv(file_path, header=True, inferSchema=True)\n",
    "\n",
    "# Show the schema of the DataFrame\n",
    "alzheimers_df.printSchema()\n",
    "\n",
    "# Display the first few rows of the DataFrame\n",
    "alzheimers_df.show()\n"
   ]
  },
  {
   "cell_type": "code",
   "execution_count": 6,
   "metadata": {},
   "outputs": [
    {
     "name": "stdout",
     "output_type": "stream",
     "text": [
      "Accuracy: 0.6473684210526316\n",
      "+---------+----------+-----+\n",
      "|Diagnosis|prediction|count|\n",
      "+---------+----------+-----+\n",
      "|        1|       0.0|  134|\n",
      "|        0|       0.0|  246|\n",
      "+---------+----------+-----+\n",
      "\n"
     ]
    }
   ],
   "source": [
    "# Select features and target\n",
    "feature_columns = ['Age', 'Gender', 'BMI', 'FamilyHistoryAlzheimers', 'CardiovascularDisease', 'Diabetes']\n",
    "assembler = VectorAssembler(inputCols=feature_columns, outputCol=\"features\")\n",
    "data = assembler.transform(alzheimers_df)\n",
    "\n",
    "# Select features and label column\n",
    "data = data.select(\"features\", \"Diagnosis\")\n",
    "\n",
    "# Split the data into training and test sets\n",
    "train_data, test_data = data.randomSplit([0.8, 0.2], seed=42)\n",
    "\n",
    "# Create a Logistic Regression model\n",
    "lr = LogisticRegression(labelCol=\"Diagnosis\", featuresCol=\"features\")\n",
    "\n",
    "# Train the model\n",
    "lr_model = lr.fit(train_data)\n",
    "\n",
    "# Make predictions\n",
    "predictions = lr_model.transform(test_data)\n",
    "\n",
    "# Evaluate the model\n",
    "evaluator = MulticlassClassificationEvaluator(labelCol=\"Diagnosis\", predictionCol=\"prediction\", metricName=\"accuracy\")\n",
    "accuracy = evaluator.evaluate(predictions)\n",
    "print(f\"Accuracy: {accuracy}\")\n",
    "\n",
    "# Show confusion matrix\n",
    "predictions.groupBy(\"Diagnosis\", \"prediction\").count().show()"
   ]
  },
  {
   "cell_type": "code",
   "execution_count": null,
   "metadata": {},
   "outputs": [],
   "source": []
  }
 ],
 "metadata": {
  "kernelspec": {
   "display_name": "dev",
   "language": "python",
   "name": "python3"
  },
  "language_info": {
   "codemirror_mode": {
    "name": "ipython",
    "version": 3
   },
   "file_extension": ".py",
   "mimetype": "text/x-python",
   "name": "python",
   "nbconvert_exporter": "python",
   "pygments_lexer": "ipython3",
   "version": "3.10.13"
  }
 },
 "nbformat": 4,
 "nbformat_minor": 2
}
